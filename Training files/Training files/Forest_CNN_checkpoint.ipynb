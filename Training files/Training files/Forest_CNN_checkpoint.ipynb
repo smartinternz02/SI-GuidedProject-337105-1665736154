{
  "cells": [
    {
      "cell_type": "markdown",
      "metadata": {
        "id": "8L5ChY5fOnTZ"
      },
      "source": [
        "# ECG arrhythmia classification using CNN"
      ]
    },
    {
      "cell_type": "markdown",
      "metadata": {
        "id": "m8IaFSFvOnTc"
      },
      "source": [
        "### Importing Neccessary Libraries"
      ]
    },
    {
      "cell_type": "code",
      "execution_count": 2,
      "metadata": {
        "id": "ZIy0RSSlOnTd"
      },
      "outputs": [],
      "source": [
        "import numpy as np\n",
        "import tensorflow\n",
        "from tensorflow.keras.models import Sequential \n",
        "from tensorflow.keras import layers \n",
        "\n",
        "from tensorflow.keras.layers import Dense,Flatten\n",
        "\n",
        "from tensorflow.keras.layers import Conv2D,MaxPooling2D \n",
        "\n",
        "from tensorflow.keras.preprocessing.image import ImageDataGenerator\n"
      ]
    },
    {
      "cell_type": "markdown",
      "metadata": {
        "id": "3f7GJCy8OnTe"
      },
      "source": [
        "### Image Data Agumentation"
      ]
    },
    {
      "cell_type": "code",
      "execution_count": 3,
      "metadata": {
        "id": "-yaJr9m1OnTe"
      },
      "outputs": [],
      "source": [
        "\n",
        "train_datagen=ImageDataGenerator(rescale=1./255,shear_range=0.2,zoom_range=0.2,horizontal_flip=True)"
      ]
    },
    {
      "cell_type": "code",
      "execution_count": 4,
      "metadata": {
        "id": "H1SKuSE1OnTf"
      },
      "outputs": [],
      "source": [
        "\n",
        "test_datagen=ImageDataGenerator(rescale=1./255)"
      ]
    },
    {
      "cell_type": "markdown",
      "metadata": {
        "id": "qRcXIOTHOnTf"
      },
      "source": [
        "### Loading our data and performing data agumentation"
      ]
    },
    {
      "cell_type": "code",
      "execution_count": 42,
      "metadata": {
        "colab": {
          "base_uri": "https://localhost:8080/"
        },
        "id": "3VvEJJjhOnTg",
        "outputId": "afe000f1-ab80-4669-ed5f-3de941c98880"
      },
      "outputs": [
        {
          "output_type": "stream",
          "name": "stdout",
          "text": [
            "Found 436 images belonging to 2 classes.\n",
            "Found 121 images belonging to 2 classes.\n"
          ]
        }
      ],
      "source": [
        "\n",
        "x_train=train_datagen.flow_from_directory(directory=r'/content/drive/MyDrive/Forest Fire/Forest Fire/forest fire/Dataset/train_set',target_size=(64,64),batch_size=32,class_mode='categorical')\n",
        "\n",
        "\n",
        "x_test=test_datagen.flow_from_directory(directory=r'/content/drive/MyDrive/Forest Fire/Forest Fire/forest fire/Dataset/test_set',target_size=(64,64),batch_size=32,class_mode='categorical')\n"
      ]
    },
    {
      "cell_type": "code",
      "execution_count": 43,
      "metadata": {
        "colab": {
          "base_uri": "https://localhost:8080/"
        },
        "id": "ycEnxfnyOnTh",
        "outputId": "1550c1bf-f56b-4ff5-e72e-0b3d0a0b46ad"
      },
      "outputs": [
        {
          "output_type": "stream",
          "name": "stdout",
          "text": [
            "{'forest': 0, 'with fire': 1}\n"
          ]
        }
      ],
      "source": [
        "print(x_train.class_indices)"
      ]
    },
    {
      "cell_type": "code",
      "execution_count": 44,
      "metadata": {
        "colab": {
          "base_uri": "https://localhost:8080/"
        },
        "id": "_v8rBJzSOnTh",
        "outputId": "98323f48-8c07-4a8c-d22d-1668ba0510b9"
      },
      "outputs": [
        {
          "output_type": "execute_result",
          "data": {
            "text/plain": [
              "Counter({0: 281, 1: 155})"
            ]
          },
          "metadata": {},
          "execution_count": 44
        }
      ],
      "source": [
        "from collections import Counter as c\n",
        "c(x_train.labels)"
      ]
    },
    {
      "cell_type": "markdown",
      "metadata": {
        "id": "SsAtKesiOnTh"
      },
      "source": [
        "### Creating the model"
      ]
    },
    {
      "cell_type": "code",
      "execution_count": 45,
      "metadata": {
        "id": "6T4HVIE-OnTi"
      },
      "outputs": [],
      "source": [
        "\n",
        "model=Sequential()\n",
        "\n",
        "model.add(Conv2D(32,(3,3),input_shape=(64,64,3),activation='relu'))\n",
        "model.add(MaxPooling2D(pool_size=(2,2))) \n",
        "\n",
        "\n",
        "                            \n",
        "model.add(Flatten())\n",
        "model.add(Dense(32))\n",
        "model.add(Dense(2,activation='softmax'))\n"
      ]
    },
    {
      "cell_type": "code",
      "execution_count": 46,
      "metadata": {
        "colab": {
          "base_uri": "https://localhost:8080/"
        },
        "id": "3buROVAcOnTi",
        "outputId": "d9a09aaa-f9bc-4c62-9fd2-7caf9387ec12"
      },
      "outputs": [
        {
          "output_type": "stream",
          "name": "stdout",
          "text": [
            "Model: \"sequential_3\"\n",
            "_________________________________________________________________\n",
            " Layer (type)                Output Shape              Param #   \n",
            "=================================================================\n",
            " conv2d_3 (Conv2D)           (None, 62, 62, 32)        896       \n",
            "                                                                 \n",
            " max_pooling2d_3 (MaxPooling  (None, 31, 31, 32)       0         \n",
            " 2D)                                                             \n",
            "                                                                 \n",
            " flatten_3 (Flatten)         (None, 30752)             0         \n",
            "                                                                 \n",
            " dense_6 (Dense)             (None, 32)                984096    \n",
            "                                                                 \n",
            " dense_7 (Dense)             (None, 2)                 66        \n",
            "                                                                 \n",
            "=================================================================\n",
            "Total params: 985,058\n",
            "Trainable params: 985,058\n",
            "Non-trainable params: 0\n",
            "_________________________________________________________________\n"
          ]
        }
      ],
      "source": [
        "model.summary()"
      ]
    },
    {
      "cell_type": "markdown",
      "metadata": {
        "id": "kDZorG5rOnTi"
      },
      "source": [
        "### Compiling the model"
      ]
    },
    {
      "cell_type": "code",
      "execution_count": 47,
      "metadata": {
        "id": "ruNHe4lPOnTi"
      },
      "outputs": [],
      "source": [
        "\n",
        "model.compile(optimizer='adam',loss='binary_crossentropy',metrics=['accuracy'])"
      ]
    },
    {
      "cell_type": "code",
      "execution_count": 48,
      "metadata": {
        "colab": {
          "base_uri": "https://localhost:8080/"
        },
        "id": "qHB9nYtwOnTj",
        "outputId": "970c388d-faaf-46ed-a5a6-6f22446bb037"
      },
      "outputs": [
        {
          "output_type": "execute_result",
          "data": {
            "text/plain": [
              "14"
            ]
          },
          "metadata": {},
          "execution_count": 48
        }
      ],
      "source": [
        "len(x_train)"
      ]
    },
    {
      "cell_type": "markdown",
      "metadata": {
        "id": "ruDc9o0BOnTj"
      },
      "source": [
        "### Fitting the model"
      ]
    },
    {
      "cell_type": "code",
      "execution_count": 49,
      "metadata": {
        "colab": {
          "base_uri": "https://localhost:8080/"
        },
        "id": "_ydTyrGgOnTj",
        "outputId": "395d33ef-f623-4d8b-c587-ecaf85c08ee6"
      },
      "outputs": [
        {
          "output_type": "stream",
          "name": "stdout",
          "text": [
            "Epoch 1/10\n",
            "14/14 [==============================] - 131s 10s/step - loss: 1.6952 - accuracy: 0.6583 - val_loss: 0.3816 - val_accuracy: 0.9339\n",
            "Epoch 2/10\n",
            "14/14 [==============================] - 23s 2s/step - loss: 0.3775 - accuracy: 0.8647 - val_loss: 0.1194 - val_accuracy: 0.9835\n",
            "Epoch 3/10\n",
            "14/14 [==============================] - 23s 2s/step - loss: 0.2217 - accuracy: 0.9083 - val_loss: 0.0738 - val_accuracy: 0.9752\n",
            "Epoch 4/10\n",
            "14/14 [==============================] - 22s 2s/step - loss: 0.1692 - accuracy: 0.9358 - val_loss: 0.0607 - val_accuracy: 0.9752\n",
            "Epoch 5/10\n",
            "14/14 [==============================] - 22s 2s/step - loss: 0.1523 - accuracy: 0.9381 - val_loss: 0.0492 - val_accuracy: 0.9835\n",
            "Epoch 6/10\n",
            "14/14 [==============================] - 21s 2s/step - loss: 0.1611 - accuracy: 0.9381 - val_loss: 0.0433 - val_accuracy: 0.9835\n",
            "Epoch 7/10\n",
            "14/14 [==============================] - 23s 2s/step - loss: 0.1442 - accuracy: 0.9427 - val_loss: 0.0404 - val_accuracy: 0.9835\n",
            "Epoch 8/10\n",
            "14/14 [==============================] - 22s 2s/step - loss: 0.1199 - accuracy: 0.9610 - val_loss: 0.0477 - val_accuracy: 0.9752\n",
            "Epoch 9/10\n",
            "14/14 [==============================] - 21s 2s/step - loss: 0.1361 - accuracy: 0.9450 - val_loss: 0.0282 - val_accuracy: 0.9917\n",
            "Epoch 10/10\n",
            "14/14 [==============================] - 22s 2s/step - loss: 0.1488 - accuracy: 0.9381 - val_loss: 0.0241 - val_accuracy: 1.0000\n"
          ]
        },
        {
          "output_type": "execute_result",
          "data": {
            "text/plain": [
              "<keras.callbacks.History at 0x7f63dba1c3d0>"
            ]
          },
          "metadata": {},
          "execution_count": 49
        }
      ],
      "source": [
        "model.fit(x_train,steps_per_epoch=len(x_train),validation_data=x_test,validation_steps=len(x_test),epochs=10)"
      ]
    },
    {
      "cell_type": "markdown",
      "metadata": {
        "id": "XBIyNJTUOnTk"
      },
      "source": [
        "### Saving our model"
      ]
    },
    {
      "cell_type": "code",
      "execution_count": 53,
      "metadata": {
        "id": "OSYMHweWOnTk"
      },
      "outputs": [],
      "source": [
        "\n",
        "model.save('forest1.h5')"
      ]
    },
    {
      "cell_type": "markdown",
      "metadata": {
        "id": "al7yIxM3OnTk"
      },
      "source": [
        "### Predicting our results"
      ]
    },
    {
      "cell_type": "code",
      "execution_count": 54,
      "metadata": {
        "id": "rI9fHeqFOnTk"
      },
      "outputs": [],
      "source": [
        "from tensorflow.keras.models import load_model\n",
        "from tensorflow.keras.preprocessing import image\n",
        "model = load_model(\"/content/forest1.h5\") "
      ]
    },
    {
      "cell_type": "code",
      "execution_count": 56,
      "metadata": {
        "colab": {
          "base_uri": "https://localhost:8080/"
        },
        "id": "Xu3OBDmGOnTk",
        "outputId": "5e23972f-b993-46eb-b1a4-e9f462feac34"
      },
      "outputs": [
        {
          "output_type": "stream",
          "name": "stdout",
          "text": [
            "1/1 [==============================] - 0s 75ms/step\n"
          ]
        },
        {
          "output_type": "execute_result",
          "data": {
            "text/plain": [
              "array([1])"
            ]
          },
          "metadata": {},
          "execution_count": 56
        }
      ],
      "source": [
        "img = image.load_img(r\"/content/drive/MyDrive/Forest Fire/Forest Fire/forest fire/Dataset/train_set/with fire/with fire (1).png\",target_size= (64,64))\n",
        "x = image.img_to_array(img)\n",
        "x = np.expand_dims(x,axis = 0)\n",
        "\n",
        "preds=model.predict(x)\n",
        "preds=np.argmax(preds,axis=1)\n",
        "preds"
      ]
    },
    {
      "cell_type": "code",
      "execution_count": 38,
      "metadata": {
        "colab": {
          "base_uri": "https://localhost:8080/",
          "height": 36
        },
        "id": "WRv7hx6QOnTk",
        "outputId": "0778c513-9e69-41ce-d569-beaf0bc13879"
      },
      "outputs": [
        {
          "output_type": "execute_result",
          "data": {
            "text/plain": [
              "'With Fire'"
            ],
            "application/vnd.google.colaboratory.intrinsic+json": {
              "type": "string"
            }
          },
          "metadata": {},
          "execution_count": 38
        }
      ],
      "source": [
        "index=['Forest','With Fire']\n",
        "result=str(index[preds[0]])\n",
        "result"
      ]
    },
    {
      "cell_type": "code",
      "execution_count": 57,
      "metadata": {
        "colab": {
          "base_uri": "https://localhost:8080/"
        },
        "id": "chSRjVp9OnTl",
        "outputId": "6d72570e-2320-465f-da88-af40214fb218"
      },
      "outputs": [
        {
          "output_type": "stream",
          "name": "stdout",
          "text": [
            "1/1 [==============================] - 0s 42ms/step\n"
          ]
        },
        {
          "output_type": "execute_result",
          "data": {
            "text/plain": [
              "array([[1.000000e+00, 5.378729e-17]], dtype=float32)"
            ]
          },
          "metadata": {},
          "execution_count": 57
        }
      ],
      "source": [
        "img = image.load_img(r\"/content/drive/MyDrive/Forest Fire/Forest Fire/forest fire/Dataset/train_set/with fire/with fire (12).jpg\",target_size= (64,64))#loading of the image\n",
        "x = image.img_to_array(img)\n",
        "x = np.expand_dims(x,axis = 0)\n",
        "\n",
        "preds=model.predict(x)\n",
        "pred=np.argmax(preds,axis=1)\n",
        "preds"
      ]
    },
    {
      "cell_type": "code",
      "execution_count": 41,
      "metadata": {
        "colab": {
          "base_uri": "https://localhost:8080/",
          "height": 36
        },
        "id": "thOmgrz_OnTl",
        "outputId": "7a675b22-e1db-4fc9-b4ba-9561c6803e86"
      },
      "outputs": [
        {
          "output_type": "execute_result",
          "data": {
            "text/plain": [
              "'With Fire'"
            ],
            "application/vnd.google.colaboratory.intrinsic+json": {
              "type": "string"
            }
          },
          "metadata": {},
          "execution_count": 41
        }
      ],
      "source": [
        "index=['Forest','With Fire']\n",
        "result=str(index[pred[0]])\n",
        "result"
      ]
    },
    {
      "cell_type": "code",
      "execution_count": 58,
      "metadata": {
        "colab": {
          "base_uri": "https://localhost:8080/",
          "height": 53
        },
        "id": "B1Vt40nGOnTl",
        "outputId": "39f299ca-4e7d-4c67-80ac-edfd157cfb6c"
      },
      "outputs": [
        {
          "output_type": "stream",
          "name": "stdout",
          "text": [
            "1/1 [==============================] - 0s 35ms/step\n"
          ]
        },
        {
          "output_type": "execute_result",
          "data": {
            "text/plain": [
              "'Forest'"
            ],
            "application/vnd.google.colaboratory.intrinsic+json": {
              "type": "string"
            }
          },
          "metadata": {},
          "execution_count": 58
        }
      ],
      "source": [
        "img = image.load_img(r\"/content/drive/MyDrive/Forest Fire/Forest Fire/forest fire/Dataset/test_set/forest/1.jpg\",target_size= (64,64))\n",
        "x = image.img_to_array(img)\n",
        "x = np.expand_dims(x,axis = 0)\n",
        "preds=model.predict(x)\n",
        "pred=np.argmax(preds,axis=1)\n",
        "index=['Forest','With Fire']\n",
        "result=str(index[pred[0]])\n",
        "result"
      ]
    },
    {
      "cell_type": "code",
      "execution_count": 6,
      "metadata": {
        "colab": {
          "base_uri": "https://localhost:8080/"
        },
        "id": "b-KUENXXOnTl",
        "outputId": "55269d91-e57b-44bf-e77b-a4537e76e15b"
      },
      "outputs": [
        {
          "output_type": "stream",
          "name": "stdout",
          "text": [
            "Mounted at /content/drive\n"
          ]
        }
      ],
      "source": [
        "from google.colab import drive\n",
        "drive.mount('/content/drive')"
      ]
    }
  ],
  "metadata": {
    "colab": {
      "provenance": []
    },
    "kernelspec": {
      "display_name": "Python 3 (ipykernel)",
      "language": "python",
      "name": "python3"
    },
    "language_info": {
      "codemirror_mode": {
        "name": "ipython",
        "version": 3
      },
      "file_extension": ".py",
      "mimetype": "text/x-python",
      "name": "python",
      "nbconvert_exporter": "python",
      "pygments_lexer": "ipython3",
      "version": "3.8.13"
    }
  },
  "nbformat": 4,
  "nbformat_minor": 0
}