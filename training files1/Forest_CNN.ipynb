{
  "cells": [
    {
      "cell_type": "markdown",
      "metadata": {
        "id": "juE8iErjrX1f"
      },
      "source": [
        "# ECG arrhythmia classification using CNN"
      ]
    },
    {
      "cell_type": "code",
      "execution_count": 2,
      "metadata": {
        "colab": {
          "base_uri": "https://localhost:8080/"
        },
        "id": "Dgo-DkhFrk-c",
        "outputId": "2fdf1153-5c5f-4aea-d242-5a90b56950e8"
      },
      "outputs": [
        {
          "output_type": "stream",
          "name": "stdout",
          "text": [
            "Mounted at /content/drive\n"
          ]
        }
      ],
      "source": [
        "from google.colab import drive\n",
        "drive.mount('/content/drive')"
      ]
    },
    {
      "cell_type": "markdown",
      "metadata": {
        "id": "rCU9vppTrX1h"
      },
      "source": [
        "### Importing Neccessary Libraries"
      ]
    },
    {
      "cell_type": "code",
      "execution_count": 3,
      "metadata": {
        "id": "s138cHyRrX1i"
      },
      "outputs": [],
      "source": [
        "import numpy as np\n",
        "import tensorflow\n",
        "from tensorflow.keras.models import Sequential \n",
        "from tensorflow.keras import layers\n",
        "from tensorflow.keras.layers import Dense,Flatten\n",
        "from tensorflow.keras.layers import Conv2D,MaxPooling2D\n",
        "from tensorflow.keras.preprocessing.image import ImageDataGenerator\n"
      ]
    },
    {
      "cell_type": "markdown",
      "metadata": {
        "id": "YRHy86n4rX1j"
      },
      "source": [
        "### Image Data Agumentation"
      ]
    },
    {
      "cell_type": "code",
      "execution_count": 4,
      "metadata": {
        "id": "pLEV4MRKrX1j"
      },
      "outputs": [],
      "source": [
        "\n",
        "train_datagen=ImageDataGenerator(rescale=1./255,shear_range=0.2,zoom_range=0.2,horizontal_flip=True)"
      ]
    },
    {
      "cell_type": "code",
      "execution_count": 5,
      "metadata": {
        "id": "RyNmAJaIrX1j"
      },
      "outputs": [],
      "source": [
        "\n",
        "test_datagen=ImageDataGenerator(rescale=1./255)"
      ]
    },
    {
      "cell_type": "markdown",
      "metadata": {
        "id": "QGq_TMWArX1j"
      },
      "source": [
        "### Loading our data and performing data agumentation"
      ]
    },
    {
      "cell_type": "code",
      "execution_count": 6,
      "metadata": {
        "colab": {
          "base_uri": "https://localhost:8080/"
        },
        "id": "VIo7INVMrX1j",
        "outputId": "c68f0a8c-70fd-465b-8e99-06048af30deb"
      },
      "outputs": [
        {
          "output_type": "stream",
          "name": "stdout",
          "text": [
            "Found 450 images belonging to 2 classes.\n",
            "Found 121 images belonging to 2 classes.\n"
          ]
        }
      ],
      "source": [
        "\n",
        "x_train=train_datagen.flow_from_directory(directory=r'/content/drive/MyDrive/forest fire/train_set',target_size=(64,64),batch_size=32,class_mode='categorical')\n",
        "x_test=test_datagen.flow_from_directory(directory=r'/content/drive/MyDrive/forest fire/test_set',target_size=(64,64),batch_size=32,class_mode='categorical')\n"
      ]
    },
    {
      "cell_type": "code",
      "execution_count": 7,
      "metadata": {
        "id": "n3p7eGn_rX1k",
        "colab": {
          "base_uri": "https://localhost:8080/"
        },
        "outputId": "a0ea08f1-a6ed-4b05-f5dd-5b2168506eb9"
      },
      "outputs": [
        {
          "output_type": "stream",
          "name": "stdout",
          "text": [
            "{'forest': 0, 'with fire': 1}\n"
          ]
        }
      ],
      "source": [
        "print(x_train.class_indices)"
      ]
    },
    {
      "cell_type": "code",
      "execution_count": 8,
      "metadata": {
        "id": "WOYxwWpIrX1l",
        "colab": {
          "base_uri": "https://localhost:8080/"
        },
        "outputId": "56ecd583-0d88-4459-f8ab-603fbd2782fd"
      },
      "outputs": [
        {
          "output_type": "execute_result",
          "data": {
            "text/plain": [
              "Counter({0: 295, 1: 155})"
            ]
          },
          "metadata": {},
          "execution_count": 8
        }
      ],
      "source": [
        "from collections import Counter as c\n",
        "c(x_train.labels)"
      ]
    },
    {
      "cell_type": "markdown",
      "metadata": {
        "id": "pNaNr7UUrX1l"
      },
      "source": [
        "### Creating the model"
      ]
    },
    {
      "cell_type": "code",
      "execution_count": 9,
      "metadata": {
        "id": "qJnv3o4trX1l"
      },
      "outputs": [],
      "source": [
        "\n",
        "model=Sequential()\n",
        "model.add(Conv2D(32,(3,3),input_shape=(64,64,3),activation='relu'))\n",
        "model.add(MaxPooling2D(pool_size=(2,2))) \n",
        "\n",
        "# model.add(Conv2D(32,(3,3),activation='relu'))\n",
        "# model.add(MaxPooling2D(pool_size=(2,2)))\n",
        "                            \n",
        "model.add(Flatten())\n",
        "model.add(Dense(32))\n",
        "model.add(Dense(2,activation='softmax'))\n"
      ]
    },
    {
      "cell_type": "code",
      "execution_count": 10,
      "metadata": {
        "colab": {
          "base_uri": "https://localhost:8080/"
        },
        "id": "_VDE-ifirX1m",
        "outputId": "d70dbf6c-fa63-466c-dceb-104b6ab3a35f"
      },
      "outputs": [
        {
          "output_type": "stream",
          "name": "stdout",
          "text": [
            "Model: \"sequential\"\n",
            "_________________________________________________________________\n",
            " Layer (type)                Output Shape              Param #   \n",
            "=================================================================\n",
            " conv2d (Conv2D)             (None, 62, 62, 32)        896       \n",
            "                                                                 \n",
            " max_pooling2d (MaxPooling2D  (None, 31, 31, 32)       0         \n",
            " )                                                               \n",
            "                                                                 \n",
            " flatten (Flatten)           (None, 30752)             0         \n",
            "                                                                 \n",
            " dense (Dense)               (None, 32)                984096    \n",
            "                                                                 \n",
            " dense_1 (Dense)             (None, 2)                 66        \n",
            "                                                                 \n",
            "=================================================================\n",
            "Total params: 985,058\n",
            "Trainable params: 985,058\n",
            "Non-trainable params: 0\n",
            "_________________________________________________________________\n"
          ]
        }
      ],
      "source": [
        "model.summary()"
      ]
    },
    {
      "cell_type": "markdown",
      "metadata": {
        "id": "f2ue5yAYrX1m"
      },
      "source": [
        "### Compiling the model"
      ]
    },
    {
      "cell_type": "code",
      "execution_count": 11,
      "metadata": {
        "id": "SYLaWCmerX1m"
      },
      "outputs": [],
      "source": [
        "\n",
        "model.compile(optimizer='adam',loss='binary_crossentropy',metrics=['accuracy'])"
      ]
    },
    {
      "cell_type": "code",
      "execution_count": 12,
      "metadata": {
        "colab": {
          "base_uri": "https://localhost:8080/"
        },
        "id": "LZI0NL69rX1n",
        "outputId": "61392055-87cf-46f1-8978-6d9364bbe47f"
      },
      "outputs": [
        {
          "output_type": "execute_result",
          "data": {
            "text/plain": [
              "15"
            ]
          },
          "metadata": {},
          "execution_count": 12
        }
      ],
      "source": [
        "len(x_train)"
      ]
    },
    {
      "cell_type": "markdown",
      "metadata": {
        "id": "tz8jHigIrX1n"
      },
      "source": [
        "### Fitting the model"
      ]
    },
    {
      "cell_type": "code",
      "execution_count": 13,
      "metadata": {
        "colab": {
          "base_uri": "https://localhost:8080/"
        },
        "id": "DtVFLBsgrX1n",
        "outputId": "8b374977-12a4-4e0c-c815-2d88541d0c64"
      },
      "outputs": [
        {
          "output_type": "stream",
          "name": "stdout",
          "text": [
            "Epoch 1/10\n",
            "15/15 [==============================] - 92s 6s/step - loss: 1.8011 - accuracy: 0.7578 - val_loss: 0.4517 - val_accuracy: 0.8430\n",
            "Epoch 2/10\n",
            "15/15 [==============================] - 14s 949ms/step - loss: 0.4757 - accuracy: 0.8600 - val_loss: 0.2246 - val_accuracy: 0.8926\n",
            "Epoch 3/10\n",
            "15/15 [==============================] - 14s 942ms/step - loss: 0.2657 - accuracy: 0.8800 - val_loss: 0.0870 - val_accuracy: 0.9835\n",
            "Epoch 4/10\n",
            "15/15 [==============================] - 14s 918ms/step - loss: 0.1918 - accuracy: 0.9400 - val_loss: 0.0663 - val_accuracy: 0.9752\n",
            "Epoch 5/10\n",
            "15/15 [==============================] - 14s 947ms/step - loss: 0.1960 - accuracy: 0.9178 - val_loss: 0.0949 - val_accuracy: 0.9835\n",
            "Epoch 6/10\n",
            "15/15 [==============================] - 14s 949ms/step - loss: 0.1883 - accuracy: 0.9200 - val_loss: 0.0455 - val_accuracy: 1.0000\n",
            "Epoch 7/10\n",
            "15/15 [==============================] - 15s 1s/step - loss: 0.1797 - accuracy: 0.9222 - val_loss: 0.0371 - val_accuracy: 1.0000\n",
            "Epoch 8/10\n",
            "15/15 [==============================] - 14s 926ms/step - loss: 0.1623 - accuracy: 0.9333 - val_loss: 0.0403 - val_accuracy: 0.9917\n",
            "Epoch 9/10\n",
            "15/15 [==============================] - 14s 952ms/step - loss: 0.1366 - accuracy: 0.9378 - val_loss: 0.0476 - val_accuracy: 0.9917\n",
            "Epoch 10/10\n",
            "15/15 [==============================] - 14s 953ms/step - loss: 0.1422 - accuracy: 0.9378 - val_loss: 0.0333 - val_accuracy: 1.0000\n"
          ]
        },
        {
          "output_type": "execute_result",
          "data": {
            "text/plain": [
              "<keras.callbacks.History at 0x7fc658a6c250>"
            ]
          },
          "metadata": {},
          "execution_count": 13
        }
      ],
      "source": [
        "model.fit(x_train,steps_per_epoch=len(x_train),validation_data=x_test,validation_steps=len(x_test),epochs=10)"
      ]
    },
    {
      "cell_type": "code",
      "execution_count": 14,
      "metadata": {
        "id": "7oBB4MNcrX1n"
      },
      "outputs": [],
      "source": [
        "#model.fit_generator(x_train,epochs=10,validation_data=x_test)"
      ]
    },
    {
      "cell_type": "markdown",
      "metadata": {
        "id": "s-it7rbfrX1n"
      },
      "source": [
        "### Saving our model"
      ]
    },
    {
      "cell_type": "code",
      "execution_count": 15,
      "metadata": {
        "id": "nV_C616JrX1o"
      },
      "outputs": [],
      "source": [
        "\n",
        "model.save('forest1 (2).h5')"
      ]
    },
    {
      "cell_type": "markdown",
      "metadata": {
        "id": "lz8tcGuIrX1o"
      },
      "source": [
        "### Predicting our results"
      ]
    },
    {
      "cell_type": "code",
      "execution_count": 18,
      "metadata": {
        "id": "EFSs80sjrX1o"
      },
      "outputs": [],
      "source": [
        "from tensorflow.keras.models import load_model\n",
        "from tensorflow.keras.preprocessing import image\n",
        "model = load_model(\"/content/forest1 (2).h5\")"
      ]
    },
    {
      "cell_type": "code",
      "execution_count": 19,
      "metadata": {
        "colab": {
          "base_uri": "https://localhost:8080/"
        },
        "id": "FouMomL1rX1o",
        "outputId": "e14c3805-406e-4a4d-db28-33dc7dae5494"
      },
      "outputs": [
        {
          "output_type": "stream",
          "name": "stdout",
          "text": [
            "1/1 [==============================] - 0s 77ms/step\n"
          ]
        },
        {
          "output_type": "execute_result",
          "data": {
            "text/plain": [
              "array([0])"
            ]
          },
          "metadata": {},
          "execution_count": 19
        }
      ],
      "source": [
        "img = image.load_img(r\"/content/drive/MyDrive/forest fire/train_set/forest/with_fire (1) (1).gif\",target_size= (64,64))\n",
        "x = image.img_to_array(img)\n",
        "x = np.expand_dims(x,axis = 0)\n",
        "preds=model.predict(x)\n",
        "preds=np.argmax(preds,axis=1)\n",
        "preds"
      ]
    },
    {
      "cell_type": "code",
      "execution_count": 20,
      "metadata": {
        "colab": {
          "base_uri": "https://localhost:8080/",
          "height": 81
        },
        "id": "2qJET-b_wxP4",
        "outputId": "326dd58f-e221-47e2-95db-90f13c701d7d"
      },
      "outputs": [
        {
          "output_type": "execute_result",
          "data": {
            "text/plain": [
              "<PIL.Image.Image image mode=RGB size=64x64 at 0x7FC65D36A2D0>"
            ],
            "image/png": "[encoded data removed]"
          },
          "metadata": {},
          "execution_count": 20
        }
      ],
      "source": [
        "img"
      ]
    },
    {
      "cell_type": "code",
      "execution_count": 21,
      "metadata": {
        "colab": {
          "base_uri": "https://localhost:8080/",
          "height": 35
        },
        "id": "wb1y-8RErX1p",
        "outputId": "33019357-c52f-484f-e8ca-35263b3871ef"
      },
      "outputs": [
        {
          "output_type": "execute_result",
          "data": {
            "text/plain": [
              "'Forest'"
            ],
            "application/vnd.google.colaboratory.intrinsic+json": {
              "type": "string"
            }
          },
          "metadata": {},
          "execution_count": 21
        }
      ],
      "source": [
        "index=['Forest','With Fire']\n",
        "result = str(index[preds[0]])\n",
        "result"
      ]
    },
    {
      "cell_type": "code",
      "execution_count": 22,
      "metadata": {
        "colab": {
          "base_uri": "https://localhost:8080/"
        },
        "id": "k-W2OlcFrX1p",
        "outputId": "4b5d5974-2e99-4f4f-a269-96a21d5065be"
      },
      "outputs": [
        {
          "output_type": "stream",
          "name": "stdout",
          "text": [
            "1/1 [==============================] - 0s 14ms/step\n"
          ]
        },
        {
          "output_type": "execute_result",
          "data": {
            "text/plain": [
              "array([[0., 1.]], dtype=float32)"
            ]
          },
          "metadata": {},
          "execution_count": 22
        }
      ],
      "source": [
        "img = image.load_img(r\"/content/drive/MyDrive/forest fire/train_set/with fire/with fire (1).png\",target_size= (64,64))#loading of the image\n",
        "x = image.img_to_array(img)\n",
        "x = np.expand_dims(x,axis = 0)\n",
        "preds=model.predict(x)\n",
        "pred=np.argmax(preds,axis=1)\n",
        "preds"
      ]
    },
    {
      "cell_type": "code",
      "execution_count": 27,
      "metadata": {
        "colab": {
          "base_uri": "https://localhost:8080/",
          "height": 35
        },
        "id": "VzFN9B1TrX1p",
        "outputId": "9ff66666-796d-44e1-b4a3-6881edddde86"
      },
      "outputs": [
        {
          "output_type": "execute_result",
          "data": {
            "text/plain": [
              "'With Fire'"
            ],
            "application/vnd.google.colaboratory.intrinsic+json": {
              "type": "string"
            }
          },
          "metadata": {},
          "execution_count": 27
        }
      ],
      "source": [
        " index=['Forest','With Fire']\n",
        "result=str(index[pred[0]])\n",
        "result"
      ]
    },
    {
      "cell_type": "code",
      "execution_count": 28,
      "metadata": {
        "colab": {
          "base_uri": "https://localhost:8080/",
          "height": 53
        },
        "id": "K3lj5qgRrX1p",
        "outputId": "799fc275-0bdd-4cd2-aa2c-8932a5217738"
      },
      "outputs": [
        {
          "output_type": "stream",
          "name": "stdout",
          "text": [
            "1/1 [==============================] - 0s 20ms/step\n"
          ]
        },
        {
          "output_type": "execute_result",
          "data": {
            "text/plain": [
              "'With Fire'"
            ],
            "application/vnd.google.colaboratory.intrinsic+json": {
              "type": "string"
            }
          },
          "metadata": {},
          "execution_count": 28
        }
      ],
      "source": [
        "img = image.load_img(r\"/content/drive/MyDrive/forest fire/test_set/with fire/19464620_401.jpg\",target_size= (64,64))\n",
        "x = image.img_to_array(img)\n",
        "x = np.expand_dims(x,axis = 0)\n",
        "preds=model.predict(x)\n",
        "pred=np.argmax(preds,axis=1)\n",
        "index=['Forest','With Fire']\n",
        "result=str(index[pred[0]])\n",
        "result"
      ]
    },
    {
      "cell_type": "code",
      "execution_count": null,
      "metadata": {
        "id": "IaLn03bvrX1p"
      },
      "outputs": [],
      "source": []
    },
    {
      "cell_type": "code",
      "execution_count": null,
      "metadata": {
        "id": "i947qk3xrX1q"
      },
      "outputs": [],
      "source": []
    }
  ],
  "metadata": {
    "colab": {
      "provenance": []
    },
    "kernelspec": {
      "display_name": "Python 3 (ipykernel)",
      "language": "python",
      "name": "python3"
    },
    "language_info": {
      "codemirror_mode": {
        "name": "ipython",
        "version": 3
      },
      "file_extension": ".py",
      "mimetype": "text/x-python",
      "name": "python",
      "nbconvert_exporter": "python",
      "pygments_lexer": "ipython3",
      "version": "3.8.13"
    }
  },
  "nbformat": 4,
  "nbformat_minor": 0
}